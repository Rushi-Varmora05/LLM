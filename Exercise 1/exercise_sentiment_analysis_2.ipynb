{
 "cells": [
  {
   "cell_type": "markdown",
   "metadata": {},
   "source": [
    "### **Exercise: Sentiment Analysis and Key Insights Extraction from Ford Car Reviews**\n",
    "\n",
    "### **Problem Statement:**\n",
    "You have been provided with a dataset containing Ford car reviews. Your task is to use LangChain and the concepts you’ve learned to perform the following tasks:\n",
    "\n",
    "1. **Sentiment Analysis**: Analyze the sentiment of each review, categorize it as positive, neutral, or negative, and store the result.\n",
    "2. **Key Insights Extraction**: Extract key pieces of information from each review, such as the pros and cons mentioned, and the specific features the reviewer liked or disliked (e.g., vehicle performance, comfort, price).\n",
    "\n",
    "You will build a LangChain-based solution that leverages language models to automatically extract this information and provide a structured summary of the reviews. \n",
    "\n",
    "---\n",
    "### **Steps to Solve:**\n",
    "\n",
    "#### **Step 1: Load the Dataset**\n",
    "- The dataset file is named `ford_car_reviews.csv` and is sourced from Kaggle: [Edmunds Consumer Car Ratings and Reviews](https://www.kaggle.com/datasets/ankkur13/edmundsconsumer-car-ratings-and-reviews).\n",
    "- For this exercise, **limit the data to the first 25 records**. This can be achieved by using `df.head(25)` or `df.iloc[:25]` when loading the data into a DataFrame.\n",
    "\n",
    "#### **Step 2: Define the Sentiment Analysis Task**\n",
    "- Use LangChain to create a pipeline to classify the sentiment of each review.\n",
    "- Define prompts that can guide the model to evaluate the sentiment. For example:\n",
    "  - \"Given the following car review, classify the sentiment as positive, neutral, or negative.\"\n",
    "\n",
    "#### **Step 3: Key Insights Extraction**\n",
    "- Use LangChain to create a pipeline to extract pros, cons, and notable features from each review. Define prompts such as:\n",
    "  - \"What are the pros and cons of the vehicle described in the following review?\"\n",
    "  - \"What specific features of the vehicle does the reviewer like or dislike?\"\n",
    "\n",
    "#### **Step 4: Update the DataFrame with New Information**\n",
    "- Run the pipeline for each review and collect the sentiment and insights.\n",
    "- Once the analysis and extraction are complete, update the original DataFrame with additional columns to include:\n",
    "  - Sentiment (positive, neutral, negative)\n",
    "  - Pros\n",
    "  - Cons\n",
    "  - Liked_Features\n",
    "  - Disliked_Features\n",
    "\n",
    "---\n",
    "\n",
    "### **Example Output:**\n",
    "\n",
    "```json\n",
    "{\n",
    "  \"Review_Date\": \"03/07/13\",\n",
    "  \"Vehicle_Title\": \"2006 Ford Mustang Coupe\",\n",
    "  \"Review_Text\": \"With the expected arrival of our 6th child...\",\n",
    "  \"Rating\": 4.125,\n",
    "  \"Sentiment\": \"Positive\",\n",
    "  \"Pros\": \"Good driving experience, Large seating capacity, Great options\",\n",
    "  \"Cons\": \"None mentioned\",\n",
    "  \"Liked_Features\": [\"Driving experience\", \"Seating capacity\", \"Options available\"],\n",
    "  \"Disliked_Features\": []\n",
    "}\n",
    "```"
   ]
  },
  {
   "cell_type": "code",
   "execution_count": 1,
   "metadata": {},
   "outputs": [
    {
     "ename": "ModuleNotFoundError",
     "evalue": "No module named 'langchain_groq'",
     "output_type": "error",
     "traceback": [
      "\u001b[1;31m---------------------------------------------------------------------------\u001b[0m",
      "\u001b[1;31mModuleNotFoundError\u001b[0m                       Traceback (most recent call last)",
      "Cell \u001b[1;32mIn[1], line 4\u001b[0m\n\u001b[0;32m      2\u001b[0m \u001b[38;5;28;01mimport\u001b[39;00m \u001b[38;5;21;01mos\u001b[39;00m\u001b[38;5;241m,\u001b[39m \u001b[38;5;21;01mjson\u001b[39;00m\u001b[38;5;241m,\u001b[39m \u001b[38;5;21;01mre\u001b[39;00m\u001b[38;5;241m,\u001b[39m \u001b[38;5;21;01mgetpass\u001b[39;00m\n\u001b[0;32m      3\u001b[0m \u001b[38;5;28;01mfrom\u001b[39;00m \u001b[38;5;21;01mdotenv\u001b[39;00m \u001b[38;5;28;01mimport\u001b[39;00m load_dotenv\n\u001b[1;32m----> 4\u001b[0m \u001b[38;5;28;01mfrom\u001b[39;00m \u001b[38;5;21;01mlangchain_groq\u001b[39;00m \u001b[38;5;28;01mimport\u001b[39;00m ChatGroq\n\u001b[0;32m      5\u001b[0m \u001b[38;5;28;01mfrom\u001b[39;00m \u001b[38;5;21;01mlangchain_core\u001b[39;00m\u001b[38;5;21;01m.\u001b[39;00m\u001b[38;5;21;01mprompts\u001b[39;00m \u001b[38;5;28;01mimport\u001b[39;00m ChatPromptTemplate\n\u001b[0;32m      6\u001b[0m \u001b[38;5;28;01mfrom\u001b[39;00m \u001b[38;5;21;01mlangchain_core\u001b[39;00m\u001b[38;5;21;01m.\u001b[39;00m\u001b[38;5;21;01moutput_parsers\u001b[39;00m \u001b[38;5;28;01mimport\u001b[39;00m StrOutputParser, JsonOutputParser\n",
      "\u001b[1;31mModuleNotFoundError\u001b[0m: No module named 'langchain_groq'"
     ]
    }
   ],
   "source": [
    "import pandas as pd\n",
    "import os, json, re, getpass\n",
    "from dotenv import load_dotenv\n",
    "from langchain_groq import ChatGroq\n",
    "from langchain_core.prompts import ChatPromptTemplate\n",
    "from langchain_core.output_parsers import StrOutputParser, JsonOutputParser"
   ]
  },
  {
   "cell_type": "code",
   "execution_count": null,
   "metadata": {},
   "outputs": [],
   "source": [
    "df=pd.read_csv('ford_car_reviews.csv',engine='python')"
   ]
  },
  {
   "cell_type": "code",
   "execution_count": null,
   "metadata": {},
   "outputs": [],
   "source": [
    "df.drop(\"Unnamed: 0\", axis=1,inplace=True)\n",
    "df=df.iloc[:25]"
   ]
  },
  {
   "cell_type": "code",
   "execution_count": null,
   "metadata": {},
   "outputs": [],
   "source": [
    "load_dotenv(\".env\", override=True)\n",
    "if \"GROQ_API_KEY\" not in os.environ:\n",
    "    os.environ[\"GROQ_API_KEY\"] = getpass.getpass(\"GROQ API Key:\")"
   ]
  },
  {
   "cell_type": "code",
   "execution_count": null,
   "metadata": {},
   "outputs": [],
   "source": [
    "model_id = \"llama3-8b-8192\" #llama3-8b-8192, llama-3.1-8b-instant, llama3-groq-8b-8192-tool-use-preview, llama3-groq-70b-8192-tool-use-preview\n",
    "llm = ChatGroq(model_name=model_id, temperature=0, )"
   ]
  },
  {
   "cell_type": "code",
   "execution_count": null,
   "metadata": {},
   "outputs": [],
   "source": [
    "combined_system_message_template = \"\"\"\n",
    "Given the following car review, perform the following tasks:\n",
    "1. Classify the sentiment as Positive, Neutral, or Negative.\n",
    "2. Identify the following details:\n",
    "   - Pros: List the positive aspects of the vehicle mentioned in the review.\n",
    "   - Cons: List the negative aspects of the vehicle mentioned in the review.\n",
    "   - Liked Features: Highlight specific features the reviewer liked (if mentioned).\n",
    "   - Disliked Features: Highlight specific features the reviewer disliked (if mentioned).\n",
    "Respond with a JSON object containing these fields: Sentiment, Pros, Cons, Liked_Features, Disliked_Features.\n",
    "\"\"\"\n",
    "combined_template = ChatPromptTemplate([\n",
    "    (\"system\", combined_system_message_template),\n",
    "    (\"human\", \"{user_input}\"),\n",
    "])"
   ]
  },
  {
   "cell_type": "code",
   "execution_count": null,
   "metadata": {},
   "outputs": [],
   "source": [
    "def analyze_review(review):\n",
    "    prompt = combined_template.format(user_input=review)\n",
    "    response = llm.invoke(prompt)\n",
    "    json_response = JsonOutputParser().invoke(response)\n",
    "    try:\n",
    "        result = json_response\n",
    "    except json.JSONDecodeError:\n",
    "        result = {\n",
    "            \"Sentiment\": \"Neutral\",  \n",
    "            \"Pros\": \"Could not extract\",\n",
    "            \"Cons\": \"Could not extract\",\n",
    "            \"Liked_Features\": [],\n",
    "            \"Disliked_Features\": []\n",
    "        }\n",
    "    return result\n",
    "\n"
   ]
  },
  {
   "cell_type": "code",
   "execution_count": null,
   "metadata": {},
   "outputs": [],
   "source": [
    "output_list = []"
   ]
  },
  {
   "cell_type": "code",
   "execution_count": null,
   "metadata": {},
   "outputs": [],
   "source": [
    "for index, row in df.iterrows():\n",
    "    review_data = {\n",
    "        \"Review_Date\": row['Review_Date'],  \n",
    "        \"Vehicle_Title\": row['Vehicle_Title'],  \n",
    "        \"Review_Text\": row['Review'],  \n",
    "        \"Rating\": row['Rating'],  \n",
    "    }\n",
    "    analysis = analyze_review(review_data[\"Review_Text\"])\n",
    "    review_data.update(analysis)\n",
    "    output_list.append(review_data)"
   ]
  },
  {
   "cell_type": "code",
   "execution_count": null,
   "metadata": {},
   "outputs": [],
   "source": [
    "print(json.dumps(output_list, indent=2))"
   ]
  }
 ],
 "metadata": {
  "kernelspec": {
   "display_name": "base",
   "language": "python",
   "name": "python3"
  },
  "language_info": {
   "codemirror_mode": {
    "name": "ipython",
    "version": 3
   },
   "file_extension": ".py",
   "mimetype": "text/x-python",
   "name": "python",
   "nbconvert_exporter": "python",
   "pygments_lexer": "ipython3",
   "version": "3.11.7"
  }
 },
 "nbformat": 4,
 "nbformat_minor": 2
}
