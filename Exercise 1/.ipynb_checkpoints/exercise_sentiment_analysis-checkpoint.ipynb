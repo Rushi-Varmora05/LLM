{
 "cells": [
  {
   "cell_type": "markdown",
   "metadata": {},
   "source": [
    "### **Exercise: Sentiment Analysis and Key Insights Extraction from Ford Car Reviews**\n",
    "\n",
    "### **Problem Statement:**\n",
    "You have been provided with a dataset containing Ford car reviews. Your task is to use LangChain and the concepts you’ve learned to perform the following tasks:\n",
    "\n",
    "1. **Sentiment Analysis**: Analyze the sentiment of each review, categorize it as positive, neutral, or negative, and store the result.\n",
    "2. **Key Insights Extraction**: Extract key pieces of information from each review, such as the pros and cons mentioned, and the specific features the reviewer liked or disliked (e.g., vehicle performance, comfort, price).\n",
    "\n",
    "You will build a LangChain-based solution that leverages language models to automatically extract this information and provide a structured summary of the reviews. \n",
    "\n",
    "---\n",
    "### **Steps to Solve:**\n",
    "\n",
    "#### **Step 1: Load the Dataset**\n",
    "- The dataset file is named `ford_car_reviews.csv` and is sourced from Kaggle: [Edmunds Consumer Car Ratings and Reviews](https://www.kaggle.com/datasets/ankkur13/edmundsconsumer-car-ratings-and-reviews).\n",
    "- For this exercise, **limit the data to the first 25 records**. This can be achieved by using `df.head(25)` or `df.iloc[:25]` when loading the data into a DataFrame.\n",
    "\n",
    "#### **Step 2: Define the Sentiment Analysis Task**\n",
    "- Use LangChain to create a pipeline to classify the sentiment of each review.\n",
    "- Define prompts that can guide the model to evaluate the sentiment. For example:\n",
    "  - \"Given the following car review, classify the sentiment as positive, neutral, or negative.\"\n",
    "\n",
    "#### **Step 3: Key Insights Extraction**\n",
    "- Use LangChain to create a pipeline to extract pros, cons, and notable features from each review. Define prompts such as:\n",
    "  - \"What are the pros and cons of the vehicle described in the following review?\"\n",
    "  - \"What specific features of the vehicle does the reviewer like or dislike?\"\n",
    "\n",
    "#### **Step 4: Update the DataFrame with New Information**\n",
    "- Run the pipeline for each review and collect the sentiment and insights.\n",
    "- Once the analysis and extraction are complete, update the original DataFrame with additional columns to include:\n",
    "  - Sentiment (positive, neutral, negative)\n",
    "  - Pros\n",
    "  - Cons\n",
    "  - Liked_Features\n",
    "  - Disliked_Features\n",
    "\n",
    "---\n",
    "\n",
    "### **Example Output:**\n",
    "\n",
    "```json\n",
    "{\n",
    "  \"Review_Date\": \"03/07/13\",\n",
    "  \"Vehicle_Title\": \"2006 Ford Mustang Coupe\",\n",
    "  \"Review_Text\": \"With the expected arrival of our 6th child...\",\n",
    "  \"Rating\": 4.125,\n",
    "  \"Sentiment\": \"Positive\",\n",
    "  \"Pros\": \"Good driving experience, Large seating capacity, Great options\",\n",
    "  \"Cons\": \"None mentioned\",\n",
    "  \"Liked_Features\": [\"Driving experience\", \"Seating capacity\", \"Options available\"],\n",
    "  \"Disliked_Features\": []\n",
    "}\n",
    "```"
   ]
  },
  {
   "cell_type": "code",
   "execution_count": null,
   "metadata": {},
   "outputs": [
    {
     "name": "stdout",
     "output_type": "stream",
     "text": [
      "Collecting langchain_groq\n",
      "  Using cached langchain_groq-0.2.3-py3-none-any.whl.metadata (3.0 kB)\n",
      "Collecting groq<1,>=0.4.1 (from langchain_groq)\n",
      "  Using cached groq-0.15.0-py3-none-any.whl.metadata (14 kB)\n",
      "Collecting langchain-core<0.4.0,>=0.3.29 (from langchain_groq)\n",
      "  Using cached langchain_core-0.3.29-py3-none-any.whl.metadata (6.3 kB)\n",
      "Requirement already satisfied: anyio<5,>=3.5.0 in c:\\python311\\lib\\site-packages (from groq<1,>=0.4.1->langchain_groq) (4.4.0)\n",
      "Collecting distro<2,>=1.7.0 (from groq<1,>=0.4.1->langchain_groq)\n",
      "  Using cached distro-1.9.0-py3-none-any.whl.metadata (6.8 kB)\n",
      "Requirement already satisfied: httpx<1,>=0.23.0 in c:\\python311\\lib\\site-packages (from groq<1,>=0.4.1->langchain_groq) (0.27.0)\n",
      "Requirement already satisfied: pydantic<3,>=1.9.0 in c:\\python311\\lib\\site-packages (from groq<1,>=0.4.1->langchain_groq) (2.8.2)\n",
      "Requirement already satisfied: sniffio in c:\\python311\\lib\\site-packages (from groq<1,>=0.4.1->langchain_groq) (1.3.1)\n",
      "Requirement already satisfied: typing-extensions<5,>=4.10 in c:\\users\\rushi\\appdata\\roaming\\python\\python311\\site-packages (from groq<1,>=0.4.1->langchain_groq) (4.11.0)\n",
      "Requirement already satisfied: PyYAML>=5.3 in c:\\python311\\lib\\site-packages (from langchain-core<0.4.0,>=0.3.29->langchain_groq) (6.0.1)\n",
      "Collecting jsonpatch<2.0,>=1.33 (from langchain-core<0.4.0,>=0.3.29->langchain_groq)\n",
      "  Using cached jsonpatch-1.33-py2.py3-none-any.whl.metadata (3.0 kB)\n",
      "Collecting langsmith<0.3,>=0.1.125 (from langchain-core<0.4.0,>=0.3.29->langchain_groq)\n",
      "  Using cached langsmith-0.2.10-py3-none-any.whl.metadata (14 kB)\n",
      "Requirement already satisfied: packaging<25,>=23.2 in c:\\users\\rushi\\appdata\\roaming\\python\\python311\\site-packages (from langchain-core<0.4.0,>=0.3.29->langchain_groq) (24.0)\n",
      "Requirement already satisfied: tenacity!=8.4.0,<10.0.0,>=8.1.0 in c:\\python311\\lib\\site-packages (from langchain-core<0.4.0,>=0.3.29->langchain_groq) (9.0.0)\n",
      "Requirement already satisfied: idna>=2.8 in c:\\python311\\lib\\site-packages (from anyio<5,>=3.5.0->groq<1,>=0.4.1->langchain_groq) (3.7)\n",
      "Requirement already satisfied: certifi in c:\\python311\\lib\\site-packages (from httpx<1,>=0.23.0->groq<1,>=0.4.1->langchain_groq) (2024.7.4)\n",
      "Requirement already satisfied: httpcore==1.* in c:\\python311\\lib\\site-packages (from httpx<1,>=0.23.0->groq<1,>=0.4.1->langchain_groq) (1.0.5)\n",
      "Requirement already satisfied: h11<0.15,>=0.13 in c:\\python311\\lib\\site-packages (from httpcore==1.*->httpx<1,>=0.23.0->groq<1,>=0.4.1->langchain_groq) (0.14.0)\n",
      "Requirement already satisfied: jsonpointer>=1.9 in c:\\python311\\lib\\site-packages (from jsonpatch<2.0,>=1.33->langchain-core<0.4.0,>=0.3.29->langchain_groq) (3.0.0)\n",
      "Requirement already satisfied: orjson<4.0.0,>=3.9.14 in c:\\python311\\lib\\site-packages (from langsmith<0.3,>=0.1.125->langchain-core<0.4.0,>=0.3.29->langchain_groq) (3.10.6)\n",
      "Requirement already satisfied: requests<3,>=2 in c:\\users\\rushi\\appdata\\roaming\\python\\python311\\site-packages (from langsmith<0.3,>=0.1.125->langchain-core<0.4.0,>=0.3.29->langchain_groq) (2.32.3)\n",
      "Collecting requests-toolbelt<2.0.0,>=1.0.0 (from langsmith<0.3,>=0.1.125->langchain-core<0.4.0,>=0.3.29->langchain_groq)\n",
      "  Using cached requests_toolbelt-1.0.0-py2.py3-none-any.whl.metadata (14 kB)\n",
      "Requirement already satisfied: annotated-types>=0.4.0 in c:\\python311\\lib\\site-packages (from pydantic<3,>=1.9.0->groq<1,>=0.4.1->langchain_groq) (0.7.0)\n",
      "Requirement already satisfied: pydantic-core==2.20.1 in c:\\python311\\lib\\site-packages (from pydantic<3,>=1.9.0->groq<1,>=0.4.1->langchain_groq) (2.20.1)\n",
      "Requirement already satisfied: charset-normalizer<4,>=2 in c:\\users\\rushi\\appdata\\roaming\\python\\python311\\site-packages (from requests<3,>=2->langsmith<0.3,>=0.1.125->langchain-core<0.4.0,>=0.3.29->langchain_groq) (3.3.2)\n",
      "Requirement already satisfied: urllib3<3,>=1.21.1 in c:\\users\\rushi\\appdata\\roaming\\python\\python311\\site-packages (from requests<3,>=2->langsmith<0.3,>=0.1.125->langchain-core<0.4.0,>=0.3.29->langchain_groq) (2.2.2)\n",
      "Using cached langchain_groq-0.2.3-py3-none-any.whl (14 kB)\n",
      "Using cached groq-0.15.0-py3-none-any.whl (109 kB)\n",
      "Using cached langchain_core-0.3.29-py3-none-any.whl (411 kB)\n",
      "Using cached distro-1.9.0-py3-none-any.whl (20 kB)\n",
      "Using cached jsonpatch-1.33-py2.py3-none-any.whl (12 kB)\n",
      "Using cached langsmith-0.2.10-py3-none-any.whl (326 kB)\n",
      "Using cached requests_toolbelt-1.0.0-py2.py3-none-any.whl (54 kB)\n",
      "Installing collected packages: jsonpatch, distro, requests-toolbelt, langsmith, groq, langchain-core, langchain_groq\n"
     ]
    },
    {
     "name": "stderr",
     "output_type": "stream",
     "text": [
      "DEPRECATION: Loading egg at c:\\python311\\lib\\site-packages\\vboxapi-1.0-py3.11.egg is deprecated. pip 24.3 will enforce this behaviour change. A possible replacement is to use pip for package installation. Discussion can be found at https://github.com/pypa/pip/issues/12330\n",
      "ERROR: Could not install packages due to an OSError: [Errno 13] Permission denied: 'C:\\\\Python311\\\\Scripts\\\\jsondiff'\n",
      "Consider using the `--user` option or check the permissions.\n",
      "\n",
      "\n",
      "[notice] A new release of pip is available: 24.1.2 -> 24.3.1\n",
      "[notice] To update, run: python.exe -m pip install --upgrade pip\n"
     ]
    }
   ],
   "source": [
    "#pip install ChatGroq\n",
    "#!pip install langchain_groq"
   ]
  },
  {
   "cell_type": "code",
   "execution_count": 4,
   "metadata": {},
   "outputs": [
    {
     "name": "stdout",
     "output_type": "stream",
     "text": [
      "Collecting langchain_groq\n",
      "  Downloading langchain_groq-0.2.3-py3-none-any.whl.metadata (3.0 kB)\n",
      "Collecting groq<1,>=0.4.1 (from langchain_groq)\n",
      "  Downloading groq-0.15.0-py3-none-any.whl.metadata (14 kB)\n",
      "Collecting langchain-core<0.4.0,>=0.3.29 (from langchain_groq)\n",
      "  Downloading langchain_core-0.3.29-py3-none-any.whl.metadata (6.3 kB)\n",
      "Requirement already satisfied: anyio<5,>=3.5.0 in c:\\python311\\lib\\site-packages (from groq<1,>=0.4.1->langchain_groq) (4.4.0)\n",
      "Collecting distro<2,>=1.7.0 (from groq<1,>=0.4.1->langchain_groq)\n",
      "  Using cached distro-1.9.0-py3-none-any.whl.metadata (6.8 kB)\n",
      "Requirement already satisfied: httpx<1,>=0.23.0 in c:\\python311\\lib\\site-packages (from groq<1,>=0.4.1->langchain_groq) (0.27.0)\n",
      "Requirement already satisfied: pydantic<3,>=1.9.0 in c:\\python311\\lib\\site-packages (from groq<1,>=0.4.1->langchain_groq) (2.8.2)\n",
      "Requirement already satisfied: sniffio in c:\\python311\\lib\\site-packages (from groq<1,>=0.4.1->langchain_groq) (1.3.1)\n",
      "Requirement already satisfied: typing-extensions<5,>=4.10 in c:\\users\\rushi\\appdata\\roaming\\python\\python311\\site-packages (from groq<1,>=0.4.1->langchain_groq) (4.11.0)\n",
      "Requirement already satisfied: PyYAML>=5.3 in c:\\python311\\lib\\site-packages (from langchain-core<0.4.0,>=0.3.29->langchain_groq) (6.0.1)\n",
      "Collecting jsonpatch<2.0,>=1.33 (from langchain-core<0.4.0,>=0.3.29->langchain_groq)\n",
      "  Downloading jsonpatch-1.33-py2.py3-none-any.whl.metadata (3.0 kB)\n",
      "Collecting langsmith<0.3,>=0.1.125 (from langchain-core<0.4.0,>=0.3.29->langchain_groq)\n",
      "  Downloading langsmith-0.2.10-py3-none-any.whl.metadata (14 kB)\n",
      "Requirement already satisfied: packaging<25,>=23.2 in c:\\users\\rushi\\appdata\\roaming\\python\\python311\\site-packages (from langchain-core<0.4.0,>=0.3.29->langchain_groq) (24.0)\n",
      "Collecting tenacity!=8.4.0,<10.0.0,>=8.1.0 (from langchain-core<0.4.0,>=0.3.29->langchain_groq)\n",
      "  Using cached tenacity-9.0.0-py3-none-any.whl.metadata (1.2 kB)\n",
      "Requirement already satisfied: idna>=2.8 in c:\\python311\\lib\\site-packages (from anyio<5,>=3.5.0->groq<1,>=0.4.1->langchain_groq) (3.7)\n",
      "Requirement already satisfied: certifi in c:\\python311\\lib\\site-packages (from httpx<1,>=0.23.0->groq<1,>=0.4.1->langchain_groq) (2024.7.4)\n",
      "Requirement already satisfied: httpcore==1.* in c:\\python311\\lib\\site-packages (from httpx<1,>=0.23.0->groq<1,>=0.4.1->langchain_groq) (1.0.5)\n",
      "Requirement already satisfied: h11<0.15,>=0.13 in c:\\python311\\lib\\site-packages (from httpcore==1.*->httpx<1,>=0.23.0->groq<1,>=0.4.1->langchain_groq) (0.14.0)\n",
      "Collecting jsonpointer>=1.9 (from jsonpatch<2.0,>=1.33->langchain-core<0.4.0,>=0.3.29->langchain_groq)\n",
      "  Downloading jsonpointer-3.0.0-py2.py3-none-any.whl.metadata (2.3 kB)\n",
      "Requirement already satisfied: orjson<4.0.0,>=3.9.14 in c:\\python311\\lib\\site-packages (from langsmith<0.3,>=0.1.125->langchain-core<0.4.0,>=0.3.29->langchain_groq) (3.10.6)\n",
      "Requirement already satisfied: requests<3,>=2 in c:\\users\\rushi\\appdata\\roaming\\python\\python311\\site-packages (from langsmith<0.3,>=0.1.125->langchain-core<0.4.0,>=0.3.29->langchain_groq) (2.32.3)\n",
      "Collecting requests-toolbelt<2.0.0,>=1.0.0 (from langsmith<0.3,>=0.1.125->langchain-core<0.4.0,>=0.3.29->langchain_groq)\n",
      "  Downloading requests_toolbelt-1.0.0-py2.py3-none-any.whl.metadata (14 kB)\n",
      "Requirement already satisfied: annotated-types>=0.4.0 in c:\\python311\\lib\\site-packages (from pydantic<3,>=1.9.0->groq<1,>=0.4.1->langchain_groq) (0.7.0)\n",
      "Requirement already satisfied: pydantic-core==2.20.1 in c:\\python311\\lib\\site-packages (from pydantic<3,>=1.9.0->groq<1,>=0.4.1->langchain_groq) (2.20.1)\n",
      "Requirement already satisfied: charset-normalizer<4,>=2 in c:\\users\\rushi\\appdata\\roaming\\python\\python311\\site-packages (from requests<3,>=2->langsmith<0.3,>=0.1.125->langchain-core<0.4.0,>=0.3.29->langchain_groq) (3.3.2)\n",
      "Requirement already satisfied: urllib3<3,>=1.21.1 in c:\\users\\rushi\\appdata\\roaming\\python\\python311\\site-packages (from requests<3,>=2->langsmith<0.3,>=0.1.125->langchain-core<0.4.0,>=0.3.29->langchain_groq) (2.2.2)\n",
      "Downloading langchain_groq-0.2.3-py3-none-any.whl (14 kB)\n",
      "Downloading groq-0.15.0-py3-none-any.whl (109 kB)\n",
      "   ---------------------------------------- 0.0/109.6 kB ? eta -:--:--\n",
      "   ---------------------------------------- 109.6/109.6 kB 3.2 MB/s eta 0:00:00\n",
      "Downloading langchain_core-0.3.29-py3-none-any.whl (411 kB)\n",
      "   ---------------------------------------- 0.0/411.6 kB ? eta -:--:--\n",
      "   ----------------------------- ---------- 307.2/411.6 kB 9.6 MB/s eta 0:00:01\n",
      "   ---------------------------------------- 411.6/411.6 kB 8.5 MB/s eta 0:00:00\n",
      "Using cached distro-1.9.0-py3-none-any.whl (20 kB)\n",
      "Downloading jsonpatch-1.33-py2.py3-none-any.whl (12 kB)\n",
      "Downloading langsmith-0.2.10-py3-none-any.whl (326 kB)\n",
      "   ---------------------------------------- 0.0/326.4 kB ? eta -:--:--\n",
      "   --------------------------------------- 326.4/326.4 kB 10.2 MB/s eta 0:00:00\n",
      "Using cached tenacity-9.0.0-py3-none-any.whl (28 kB)\n",
      "Downloading jsonpointer-3.0.0-py2.py3-none-any.whl (7.6 kB)\n",
      "Downloading requests_toolbelt-1.0.0-py2.py3-none-any.whl (54 kB)\n",
      "   ---------------------------------------- 0.0/54.5 kB ? eta -:--:--\n",
      "   ---------------------------------------- 54.5/54.5 kB ? eta 0:00:00\n",
      "Installing collected packages: tenacity, jsonpointer, distro, requests-toolbelt, jsonpatch, langsmith, groq, langchain-core, langchain_groq\n",
      "Note: you may need to restart the kernel to use updated packages.\n"
     ]
    },
    {
     "name": "stderr",
     "output_type": "stream",
     "text": [
      "DEPRECATION: Loading egg at c:\\python311\\lib\\site-packages\\vboxapi-1.0-py3.11.egg is deprecated. pip 24.3 will enforce this behaviour change. A possible replacement is to use pip for package installation. Discussion can be found at https://github.com/pypa/pip/issues/12330\n",
      "ERROR: Could not install packages due to an OSError: [Errno 13] Permission denied: 'c:\\\\Python311\\\\Scripts\\\\jsonpointer'\n",
      "Consider using the `--user` option or check the permissions.\n",
      "\n",
      "\n",
      "[notice] A new release of pip is available: 24.1.2 -> 24.3.1\n",
      "[notice] To update, run: python.exe -m pip install --upgrade pip\n"
     ]
    },
    {
     "ename": "ModuleNotFoundError",
     "evalue": "No module named 'langchain_groq'",
     "output_type": "error",
     "traceback": [
      "\u001b[1;31m---------------------------------------------------------------------------\u001b[0m",
      "\u001b[1;31mModuleNotFoundError\u001b[0m                       Traceback (most recent call last)",
      "Cell \u001b[1;32mIn[4], line 9\u001b[0m\n\u001b[0;32m      6\u001b[0m \u001b[38;5;66;03m# Install the missing package\u001b[39;00m\n\u001b[0;32m      7\u001b[0m get_ipython()\u001b[38;5;241m.\u001b[39mrun_line_magic(\u001b[38;5;124m'\u001b[39m\u001b[38;5;124mpip\u001b[39m\u001b[38;5;124m'\u001b[39m, \u001b[38;5;124m'\u001b[39m\u001b[38;5;124minstall langchain_groq\u001b[39m\u001b[38;5;124m'\u001b[39m)\n\u001b[1;32m----> 9\u001b[0m \u001b[38;5;28;01mfrom\u001b[39;00m \u001b[38;5;21;01mlangchain_groq\u001b[39;00m \u001b[38;5;28;01mimport\u001b[39;00m ChatGroq\n",
      "\u001b[1;31mModuleNotFoundError\u001b[0m: No module named 'langchain_groq'"
     ]
    }
   ],
   "source": [
    "import pandas as pd \n",
    "import numpy as np \n",
    "import os, json, re, getpass\n",
    "from dotenv import load_dotenv\n",
    "\n",
    "# Install the missing package\n",
    "%pip install langchain_groq\n",
    "\n",
    "from langchain_groq import ChatGroq\n"
   ]
  },
  {
   "cell_type": "code",
   "execution_count": 4,
   "metadata": {},
   "outputs": [],
   "source": [
    "load_dotenv(\".env\", override=True)\n",
    "if \"GROQ_API_KEY\" not in os.environ:\n",
    "    os.environ[\"GROQ_API_KEY\"] = getpass.getpass(\"GROQ API Key: \")"
   ]
  },
  {
   "cell_type": "code",
   "execution_count": 5,
   "metadata": {},
   "outputs": [],
   "source": [
    "model_id = \"llama3-8b-8192\" #llama3-8b-8192, llama-3.1-8b-instant, llama3-groq-8b-8192-tool-use-preview, llama3-groq-70b-8192-tool-use-preview\n",
    "llm = ChatGroq(model_name=model_id, temperature=0, )"
   ]
  },
  {
   "cell_type": "markdown",
   "metadata": {},
   "source": [
    "#### PromptTemplate"
   ]
  },
  {
   "cell_type": "code",
   "execution_count": 28,
   "metadata": {},
   "outputs": [],
   "source": [
    "from langchain_core.prompts import ChatPromptTemplate\n",
    "system_message_template = \"\"\"Analyze the sentiment of each review, categorize it as positive, neutral, or negative, and show the result.\n",
    "                                Secondly, Identify the following details:\n",
    "                                - Pros: List the positive aspects of the vehicle mentioned in the review.\n",
    "                                - Cons: List the negative aspects of the vehicle mentioned in the review.\n",
    "                                - Liked Features: Highlight specific features the reviewer liked (if mentioned).\n",
    "                                - Disliked Features: Highlight specific features the reviewer disliked (if mentioned).\n",
    "                                Respond with a JSON object containing these fields: Sentiment, Pros, Cons, Liked_Features, Disliked_Features.\n",
    "\n",
    "Review_Date : {review_date}\n",
    "author : {author}\n",
    "Review_Title : {review_title}\n",
    "Review_Text : {review_text}\n",
    "Sentiment : {sentiment}\n",
    "\"\"\"\n",
    "template = ChatPromptTemplate([\n",
    "    (\"system\", system_message_template),\n",
    "    (\"human\", \"{user_input}\"),\n",
    "])"
   ]
  },
  {
   "cell_type": "code",
   "execution_count": 26,
   "metadata": {},
   "outputs": [],
   "source": [
    "df = pd.read_csv(\"E:/JIO QTR 3/LLM/Lab1/Exercise 1/ford_car_reviews.csv\", encoding='utf-8', on_bad_lines='skip', engine='python')\n",
    "df = df.head(25)"
   ]
  },
  {
   "cell_type": "code",
   "execution_count": 29,
   "metadata": {},
   "outputs": [
    {
     "ename": "NameError",
     "evalue": "name 'StrOutputParser' is not defined",
     "output_type": "error",
     "traceback": [
      "\u001b[1;31m---------------------------------------------------------------------------\u001b[0m",
      "\u001b[1;31mNameError\u001b[0m                                 Traceback (most recent call last)",
      "Cell \u001b[1;32mIn[29], line 1\u001b[0m\n\u001b[1;32m----> 1\u001b[0m proof_read_chain \u001b[38;5;241m=\u001b[39m template \u001b[38;5;241m|\u001b[39m llm \u001b[38;5;241m|\u001b[39m \u001b[43mStrOutputParser\u001b[49m()\n",
      "\u001b[1;31mNameError\u001b[0m: name 'StrOutputParser' is not defined"
     ]
    }
   ],
   "source": []
  },
  {
   "cell_type": "code",
   "execution_count": 32,
   "metadata": {},
   "outputs": [],
   "source": [
    "from langchain_core.output_parsers import StrOutputParser, JsonOutputParser\n",
    "\n",
    "parser = JsonOutputParser()   "
   ]
  },
  {
   "cell_type": "code",
   "execution_count": 33,
   "metadata": {},
   "outputs": [],
   "source": [
    "proof_read_chain = template | llm | JsonOutputParser()"
   ]
  },
  {
   "cell_type": "code",
   "execution_count": 38,
   "metadata": {},
   "outputs": [
    {
     "name": "stdout",
     "output_type": "stream",
     "text": [
      "[{'Review': {'Date': '06/06/18 14:19 PM (PDT)', 'Author': 'Vicki', 'Title': '2006 Mustang GT', 'Text': 'Doesn’t disappoint', 'Sentiment': 'Positive'}}, {'sentiment': 'mixed', 'categories': [{'category': 'positive', 'reasons': [\"smokin' hot looking car\", 'fun to drive']}, {'category': 'negative', 'reasons': ['orneriest transmission', 'difficult to master smoothly', 'harsh ride', 'road noise']}]}, {'sentiment': 'positive', 'reason': \"The reviewer mentions that there will always be a 05-09 mustang for sale and that they purchased one as a second car, calling it a 'great investment'. This indicates a positive sentiment towards the product.\"}, {'sentiment': 'positive', 'review': 'I have wanted a Mustang for 40 years.\\nI bought my car from an auction I work at ( Adesa Sacramento ) and I love it!! It is a v6 with an air aid cold air injector, throttle body spacer and a Flowmaster exhaust. The previous owner also added blacked out 17 inch factory rims. This beast will smoke any G6 or v6 camaro out there.... If you can buy a base model and do the bolt on stuff yourself do it!!!!'}, {'sentiment': 'positive', 'review': 'I bought this car spankin new and i still am In love with this car.  This car hugs the road and does whatever you ask at a moments notice.   The only thing I have had to fix is the alternator.   Of course there are repairs like tires and brakes. This car has gone all these years and no mechanical breakdown!   How many cars can you say that about?This car is GREAT!', 'reason': \"The reviewer mentions being 'in love' with the car, uses positive adjectives like 'hugs the road' and 'GREAT', and highlights the car's reliability and lack of mechanical breakdowns.\"}, {'sentiment': 'negative', 'review': {'author': 'Adam', 'review_title': 'Poor', 'review_text': 'Lots of problems with Ford these days, sensors issues, cam phasers, and got solenoid problems.'}}, {'sentiment': 'positive', 'review': '06 mustang gt with a few mods', 'text': 'Bought mine used 20k on it and have added a SCT tuner with Ford CAI and Flow master mufflers.I get 19.5 mpg in town and 24.5 mpg highway onregular 87 octane gas with normal driving. No major mechanical issues to report and have taken several long road trips in it with good comfort. The mustang GT offers great bang for the buck performance and decent fuel economy. The car is easy to work on for all the do it your self guys and gals. Would I buy a mustang again you betcha...'}, {'sentiment': 'positive', 'review': \"I bought my preowned 06 a few weeks back and am very glad I did. Screaming Yellow, car had some upgrades from previous owner (Airaid air filter system, Flowmaster exaust) It's about 360 horses of extreme fun. Although the car had 51K on it, Honda dealer included 3 year 36K bumper to bumper waurranty, and I plan to get the best out of those 36,000 miles. At 45 it was a mid-life crisis the wife even agreed with. LOL\"}, {'sentiment': 'negative', 'category': 'negative', 'review': \"I drive 50 miles each way to work and traded my 01 accord for a 06 mustand in 2008. Well 80k miles later the engine starts having this knocking noise and significant loss of power and not because I don't take care of my car as I changed my oil every 3K miles and keep it very well maintained. After Ford looked at the car they quoted me $4,100 to fix what they called a cam phaser issue (pumps oil to the top end of the motor). Needless to say I pulled the car from Ford and took to a performance shop, who said it needed a new motor for $4,800. Well thats great but this is not my toy its my daily driver. Long story short before you buy research cam phasers this appears to be an issue in many Ford\"}, {'sentiment': 'positive', 'review': 'Get this car.', 'text': \"This car is just awesome.  The 4.6L V8 makes the car, and the stock exhaust has a nice rumble to it that screams when you mash the pedal to the floor.  I've had the car for 2 years and have about 52,000 miles on her with zero problems.  For the price, you really can't beat it either (16300 in 2009 with 33k miles). Its faster, better looking, and really just more of a car than any used BMW/mercedes within its pricing segment.  The only comparable competitor in the used car market this years Mustang has is in the 350z, which handles better but lacks in practicality.  And on top of that, the Z doesn't sound as good as the 8 and after test driving could be a nightmare as a daily driver\"}, {'sentiment': 'positive', 'reason': \"The reviewer mentions that the car 'put the fun back into driving', 'get up and goes', and 'turns heads', indicating a strong positive sentiment towards the car.\"}, {'sentiment': 'positive', 'review': 'Well worth the wait!', 'text': \"Previous mustang owner (1980) and have had a serious stalking issue with this car since Ford introduced the '05 model.  I don't care too much for the look of the 09-11 models, and recently found an '06 and bought it from the original owner.  He drove it a lot (70k miles), but took good care of it and she looks sweet.  So much fun to drive and decent gas mileage too.\", 'reason': \"The reviewer mentions that the car is 'sweet', 'so much fun to drive', and has 'decent gas mileage', indicating a positive sentiment.\"}, {'sentiment': 'positive', 'review': 'I drive a lot of miles, at least 150/day.  I just had the water pump replaced at 166,000 miles and decided it was time to do the rest of the maintenance that I have neglected for the last 5 years.  I changed the oil regularly with Mobil 1 and changed the brakes when necessary.  Other than that everything has always worked perfectly.  I replaced the spark plugs at 140,000 miles just because.  The originals still looked good, just needed a gap adjustment.'}, {'sentiment': 'positive', 'review': {'text': \"I purchased this Horsey in memory of my dad, Max M. Kruger a design engineer and an original member of the Mustang design team under Lee Iaccoca at Ford.  Compared to my 2 previous '73 Mach I joys, this Steed is more stealthy, has greater visibility and obviously more technologically refined. Had only one real issue with her.  The trip meter occasionally zero's itself even after extensive dealer repairs and tech help from Ford. Yes a few rattles. Also needed a new battery due to Florida heat. Got a set of General Ulimax HP tires and they are the best I ever owned. I'm not sure which I like better, watching my wife drive off in her, me driving us, or just looking at her.  Max Lives!\", 'sentiment_score': 0.8}}, {'sentiment': 'mixed', 'categories': [{'category': 'positive', 'reason': \"The reviewer mentions that the car 'drives great' and that they have not experienced any major issues.\"}, {'category': 'negative', 'reason': 'The reviewer mentions several issues with the car, including a rattling dashboard, brake pad and rotor wear, and frequent replacement of rear brake bulbs.'}, {'category': 'neutral', 'reason': 'The reviewer mentions that the dealer was unable to fix the dashboard issue and that they had to file a lemon law claim, which resulted in a $2000 settlement.'}]}, {'sentiment': 'positive', 'reason': \"The reviewer mentions that the car handles well, hasn't had any real issues, and has been repaired by the dealer without any issues. The only minor issues mentioned are a transmission pan leak and a squeak near the gauge cluster, which the reviewer doesn't seem to be bothered by.\"}, {'sentiment': 'mixed', 'categories': [{'category': 'positive', 'percentage': 30}, {'category': 'negative', 'percentage': 40}, {'category': 'neutral', 'percentage': 30}], 'text': 'This was my first new car purchase and I really liked it at first....Untill everyone in Oklahoma city bought one. Atleast there will be pleanty around to pull parts of in the salvage yard. Guys and gals, this car is what it is plus a tiny, tiny bit more..... It\\'s a (new) $20,000 sports car. I do actually love mine and it runs great but I can see it going to pieces not too far down the road. It\\'s starting to rattle a little much and the two \"subs\" in the door aren\\'t subs.... Subs are made to play mounted in a box, not mounted in a door but hats off to ford for at least trying to be hip.'}, {'sentiment': 'negative', 'reason': 'The reviewer mentions several negative experiences with the car, including unending mystery electrical problems, poor dealership service, and impracticality in winter conditions.'}, {'sentiment': 'mixed', 'categories': [{'category': 'positive', 'reason': 'The reviewer was impressed with the V6 engine and the Shaker 500', 'percentage': 40}, {'category': 'negative', 'reason': 'The reviewer experienced issues with the throttle body, clutch, and battery', 'percentage': 60}]}, {'sentiment': 'mixed', 'categories': [{'category': 'positive', 'reasons': ['Great looking car', 'I like the car']}, {'category': 'negative', 'reasons': ['stiff ride', 'lots of rattles', 'dealer unable to fix rattles']}, {'category': 'neutral', 'reasons': ['needed alternator and battery at 30k service']}]}, {'sentiment': 'negative', 'category': 'negative'}, {'sentiment': 'positive', 'review': \"This car is a blast. I purchased my 06' Performance White GT Premium about 4 months ago. It drives like a dream, its everything I ever imagined. I wanted one since the day it came out and I'm not sorry for the purchase. I get a lot of compliments. So far I have not had any problems what so ever. I have taken it to the Ford dealership I purchased it from for oil changes and everytime so far everything has been 100%\", 'reason': \"The reviewer uses positive adjectives such as 'blast', 'dream', and 'everything I ever imagined' to describe their experience with the car. They also mention getting compliments and having no problems with the car.\"}, {'sentiment': 'mixed', 'categories': {'positive': ['I love to drive the car and to look at the car.'], 'negative': [\"I've had problems with the battery draining. I've jumped it 5 times.\", \"I've also had problems with the driver side window. I had to take it to the dealership 2 times for the same issue. The 3rd time it was out of warranty and the dealership didn't want to take ownership of the problem.\"]}}, {'sentiment': 'mixed', 'categories': [{'category': 'positive', 'reasons': [\"It's great on gas\", 'It looks great', 'It has not let me down', \"It's all mine\", \"And it's payed off!\"]}, {'category': 'negative', 'reasons': [\"It's noisy\", 'It rides rough', \"It's uncomfortable on long trips\"]}]}, {'sentiment': 'positive', 'review': 'Dreams are well worth working for!', 'text': \"I've always wanted a V8 Mustang since my dad showed me a certain Steve McQueen movie called Bullitt, I just loved the styling and ferocity of McQueen's highland green '68 fastback GT. Nothing else was cooler.  Then Ford released the '05 model, now that's a Mustang! Well in a nutshell I found a tungsten grey '06 GT auto with 7k on it and bought it. Best decision ever. I love this V8! It's fast and it sounds great, though mine now sports a cold air intake and Pypes Violator exhaust and it turns heads with it's loud rumble.  Also this car is built extremely well. 31k on it and not even a rattle, not a problem. This is one I WILL NOT BE TRADING IN!\", 'reason': \"The reviewer expresses their love for the V8 Mustang, mentions it's fast, sounds great, and is built extremely well. They also mention it's the best decision they've ever made and that they won't be trading it in.\"}]\n"
     ]
    }
   ],
   "source": [
    "results = []\n",
    "for _, row in df.iterrows():\n",
    "    chain_output = proof_read_chain.invoke(dict(\n",
    "        user_input=\"Analyze the sentiment of each review, categorize it as positive, neutral, or negative, and show the result in JSON format.\",\n",
    "        author=row['Author_Name'],\n",
    "        review_date=row['Review_Date'],\n",
    "        review_title=row['Review_Title'],\n",
    "        review_text=row['Review'],\n",
    "        sentiment=\"\" \n",
    "    ))\n",
    "    results.append(chain_output)\n",
    "\n",
    "print(results)"
   ]
  },
  {
   "cell_type": "code",
   "execution_count": null,
   "metadata": {},
   "outputs": [],
   "source": []
  }
 ],
 "metadata": {
  "kernelspec": {
   "display_name": "Python 3",
   "language": "python",
   "name": "python3"
  },
  "language_info": {
   "codemirror_mode": {
    "name": "ipython",
    "version": 3
   },
   "file_extension": ".py",
   "mimetype": "text/x-python",
   "name": "python",
   "nbconvert_exporter": "python",
   "pygments_lexer": "ipython3",
   "version": "3.11.0"
  }
 },
 "nbformat": 4,
 "nbformat_minor": 2
}
