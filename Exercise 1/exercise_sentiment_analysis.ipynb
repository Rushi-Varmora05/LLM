{
 "cells": [
  {
   "cell_type": "markdown",
   "metadata": {},
   "source": [
    "### **Exercise: Sentiment Analysis and Key Insights Extraction from Ford Car Reviews**\n",
    "\n",
    "### **Problem Statement:**\n",
    "You have been provided with a dataset containing Ford car reviews. Your task is to use LangChain and the concepts you’ve learned to perform the following tasks:\n",
    "\n",
    "1. **Sentiment Analysis**: Analyze the sentiment of each review, categorize it as positive, neutral, or negative, and store the result.\n",
    "2. **Key Insights Extraction**: Extract key pieces of information from each review, such as the pros and cons mentioned, and the specific features the reviewer liked or disliked (e.g., vehicle performance, comfort, price).\n",
    "\n",
    "You will build a LangChain-based solution that leverages language models to automatically extract this information and provide a structured summary of the reviews. \n",
    "\n",
    "---\n",
    "### **Steps to Solve:**\n",
    "\n",
    "#### **Step 1: Load the Dataset**\n",
    "- The dataset file is named `ford_car_reviews.csv` and is sourced from Kaggle: [Edmunds Consumer Car Ratings and Reviews](https://www.kaggle.com/datasets/ankkur13/edmundsconsumer-car-ratings-and-reviews).\n",
    "- For this exercise, **limit the data to the first 25 records**. This can be achieved by using `df.head(25)` or `df.iloc[:25]` when loading the data into a DataFrame.\n",
    "\n",
    "#### **Step 2: Define the Sentiment Analysis Task**\n",
    "- Use LangChain to create a pipeline to classify the sentiment of each review.\n",
    "- Define prompts that can guide the model to evaluate the sentiment. For example:\n",
    "  - \"Given the following car review, classify the sentiment as positive, neutral, or negative.\"\n",
    "\n",
    "#### **Step 3: Key Insights Extraction**\n",
    "- Use LangChain to create a pipeline to extract pros, cons, and notable features from each review. Define prompts such as:\n",
    "  - \"What are the pros and cons of the vehicle described in the following review?\"\n",
    "  - \"What specific features of the vehicle does the reviewer like or dislike?\"\n",
    "\n",
    "#### **Step 4: Update the DataFrame with New Information**\n",
    "- Run the pipeline for each review and collect the sentiment and insights.\n",
    "- Once the analysis and extraction are complete, update the original DataFrame with additional columns to include:\n",
    "  - Sentiment (positive, neutral, negative)\n",
    "  - Pros\n",
    "  - Cons\n",
    "  - Liked_Features\n",
    "  - Disliked_Features\n",
    "\n",
    "---\n",
    "\n",
    "### **Example Output:**\n",
    "\n",
    "```json\n",
    "{\n",
    "  \"Review_Date\": \"03/07/13\",\n",
    "  \"Vehicle_Title\": \"2006 Ford Mustang Coupe\",\n",
    "  \"Review_Text\": \"With the expected arrival of our 6th child...\",\n",
    "  \"Rating\": 4.125,\n",
    "  \"Sentiment\": \"Positive\",\n",
    "  \"Pros\": \"Good driving experience, Large seating capacity, Great options\",\n",
    "  \"Cons\": \"None mentioned\",\n",
    "  \"Liked_Features\": [\"Driving experience\", \"Seating capacity\", \"Options available\"],\n",
    "  \"Disliked_Features\": []\n",
    "}\n",
    "```"
   ]
  },
  {
   "cell_type": "code",
   "execution_count": 23,
   "metadata": {},
   "outputs": [
    {
     "name": "stdout",
     "output_type": "stream",
     "text": [
      "Defaulting to user installation because normal site-packages is not writeable\n",
      "Requirement already satisfied: langchain_groq in c:\\users\\rushi\\appdata\\roaming\\python\\python311\\site-packages (0.2.3)\n",
      "Requirement already satisfied: groq<1,>=0.4.1 in c:\\users\\rushi\\appdata\\roaming\\python\\python311\\site-packages (from langchain_groq) (0.15.0)\n",
      "Requirement already satisfied: langchain-core<0.4.0,>=0.3.29 in c:\\users\\rushi\\appdata\\roaming\\python\\python311\\site-packages (from langchain_groq) (0.3.29)\n",
      "Requirement already satisfied: anyio<5,>=3.5.0 in d:\\anaconda\\lib\\site-packages (from groq<1,>=0.4.1->langchain_groq) (4.2.0)\n",
      "Requirement already satisfied: distro<2,>=1.7.0 in d:\\anaconda\\lib\\site-packages (from groq<1,>=0.4.1->langchain_groq) (1.8.0)\n",
      "Requirement already satisfied: httpx<1,>=0.23.0 in d:\\anaconda\\lib\\site-packages (from groq<1,>=0.4.1->langchain_groq) (0.26.0)\n",
      "Requirement already satisfied: pydantic<3,>=1.9.0 in c:\\users\\rushi\\appdata\\roaming\\python\\python311\\site-packages (from groq<1,>=0.4.1->langchain_groq) (2.10.5)\n",
      "Requirement already satisfied: sniffio in d:\\anaconda\\lib\\site-packages (from groq<1,>=0.4.1->langchain_groq) (1.3.0)\n",
      "Requirement already satisfied: typing-extensions<5,>=4.10 in c:\\users\\rushi\\appdata\\roaming\\python\\python311\\site-packages (from groq<1,>=0.4.1->langchain_groq) (4.12.2)\n",
      "Requirement already satisfied: PyYAML>=5.3 in d:\\anaconda\\lib\\site-packages (from langchain-core<0.4.0,>=0.3.29->langchain_groq) (6.0.1)\n",
      "Requirement already satisfied: jsonpatch<2.0,>=1.33 in c:\\users\\rushi\\appdata\\roaming\\python\\python311\\site-packages (from langchain-core<0.4.0,>=0.3.29->langchain_groq) (1.33)\n",
      "Requirement already satisfied: langsmith<0.3,>=0.1.125 in c:\\users\\rushi\\appdata\\roaming\\python\\python311\\site-packages (from langchain-core<0.4.0,>=0.3.29->langchain_groq) (0.2.10)\n",
      "Requirement already satisfied: packaging<25,>=23.2 in c:\\users\\rushi\\appdata\\roaming\\python\\python311\\site-packages (from langchain-core<0.4.0,>=0.3.29->langchain_groq) (24.0)\n",
      "Requirement already satisfied: tenacity!=8.4.0,<10.0.0,>=8.1.0 in d:\\anaconda\\lib\\site-packages (from langchain-core<0.4.0,>=0.3.29->langchain_groq) (8.2.2)\n",
      "Requirement already satisfied: idna>=2.8 in d:\\anaconda\\lib\\site-packages (from anyio<5,>=3.5.0->groq<1,>=0.4.1->langchain_groq) (3.4)\n",
      "Requirement already satisfied: certifi in d:\\anaconda\\lib\\site-packages (from httpx<1,>=0.23.0->groq<1,>=0.4.1->langchain_groq) (2024.2.2)\n",
      "Requirement already satisfied: httpcore==1.* in d:\\anaconda\\lib\\site-packages (from httpx<1,>=0.23.0->groq<1,>=0.4.1->langchain_groq) (1.0.2)\n",
      "Requirement already satisfied: h11<0.15,>=0.13 in d:\\anaconda\\lib\\site-packages (from httpcore==1.*->httpx<1,>=0.23.0->groq<1,>=0.4.1->langchain_groq) (0.14.0)\n",
      "Requirement already satisfied: jsonpointer>=1.9 in d:\\anaconda\\lib\\site-packages (from jsonpatch<2.0,>=1.33->langchain-core<0.4.0,>=0.3.29->langchain_groq) (2.1)\n",
      "Requirement already satisfied: orjson<4.0.0,>=3.9.14 in c:\\users\\rushi\\appdata\\roaming\\python\\python311\\site-packages (from langsmith<0.3,>=0.1.125->langchain-core<0.4.0,>=0.3.29->langchain_groq) (3.10.14)\n",
      "Requirement already satisfied: requests<3,>=2 in c:\\users\\rushi\\appdata\\roaming\\python\\python311\\site-packages (from langsmith<0.3,>=0.1.125->langchain-core<0.4.0,>=0.3.29->langchain_groq) (2.32.3)\n",
      "Requirement already satisfied: requests-toolbelt<2.0.0,>=1.0.0 in d:\\anaconda\\lib\\site-packages (from langsmith<0.3,>=0.1.125->langchain-core<0.4.0,>=0.3.29->langchain_groq) (1.0.0)\n",
      "Requirement already satisfied: annotated-types>=0.6.0 in c:\\users\\rushi\\appdata\\roaming\\python\\python311\\site-packages (from pydantic<3,>=1.9.0->groq<1,>=0.4.1->langchain_groq) (0.7.0)\n",
      "Requirement already satisfied: pydantic-core==2.27.2 in c:\\users\\rushi\\appdata\\roaming\\python\\python311\\site-packages (from pydantic<3,>=1.9.0->groq<1,>=0.4.1->langchain_groq) (2.27.2)\n",
      "Requirement already satisfied: charset-normalizer<4,>=2 in c:\\users\\rushi\\appdata\\roaming\\python\\python311\\site-packages (from requests<3,>=2->langsmith<0.3,>=0.1.125->langchain-core<0.4.0,>=0.3.29->langchain_groq) (3.3.2)\n",
      "Requirement already satisfied: urllib3<3,>=1.21.1 in c:\\users\\rushi\\appdata\\roaming\\python\\python311\\site-packages (from requests<3,>=2->langsmith<0.3,>=0.1.125->langchain-core<0.4.0,>=0.3.29->langchain_groq) (2.2.2)\n"
     ]
    },
    {
     "name": "stderr",
     "output_type": "stream",
     "text": [
      "\n",
      "[notice] A new release of pip is available: 24.1.2 -> 24.3.1\n",
      "[notice] To update, run: python.exe -m pip install --upgrade pip\n"
     ]
    }
   ],
   "source": [
    "#pip install ChatGroq\n",
    "!pip install langchain_groq"
   ]
  },
  {
   "cell_type": "code",
   "execution_count": 24,
   "metadata": {},
   "outputs": [],
   "source": [
    "import pandas as pd \n",
    "import numpy as np \n",
    "import os, json, re, getpass\n",
    "from dotenv import load_dotenv\n",
    "from langchain_groq import ChatGroq\n"
   ]
  },
  {
   "cell_type": "code",
   "execution_count": 25,
   "metadata": {},
   "outputs": [],
   "source": [
    "load_dotenv(\".env\", override=True)\n",
    "if \"GROQ_API_KEY\" not in os.environ:\n",
    "    os.environ[\"GROQ_API_KEY\"] = getpass.getpass(\"GROQ API Key: \")"
   ]
  },
  {
   "cell_type": "code",
   "execution_count": 26,
   "metadata": {},
   "outputs": [],
   "source": [
    "model_id = \"llama3-8b-8192\" #llama3-8b-8192, llama-3.1-8b-instant, llama3-groq-8b-8192-tool-use-preview, llama3-groq-70b-8192-tool-use-preview\n",
    "llm = ChatGroq(model_name=model_id, temperature=0, )"
   ]
  },
  {
   "cell_type": "markdown",
   "metadata": {},
   "source": [
    "#### PromptTemplate"
   ]
  },
  {
   "cell_type": "code",
   "execution_count": 27,
   "metadata": {},
   "outputs": [],
   "source": [
    "from langchain_core.prompts import ChatPromptTemplate\n",
    "system_message_template = \"\"\"Analyze the sentiment of each review, categorize it as positive, neutral, or negative, and show the result.\n",
    "                                Secondly, Identify the following details:\n",
    "                                - Pros: List the positive aspects of the vehicle mentioned in the review.\n",
    "                                - Cons: List the negative aspects of the vehicle mentioned in the review.\n",
    "                                - Liked Features: Highlight specific features the reviewer liked (if mentioned).\n",
    "                                - Disliked Features: Highlight specific features the reviewer disliked (if mentioned).\n",
    "                                Respond with a JSON object containing these fields: Sentiment, Pros, Cons, Liked_Features, Disliked_Features.\n",
    "\n",
    "Review_Date : {review_date}\n",
    "author : {author}\n",
    "Review_Title : {review_title}\n",
    "Review_Text : {review_text}\n",
    "Sentiment : {sentiment}\n",
    "\"\"\"\n",
    "template = ChatPromptTemplate([\n",
    "    (\"system\", system_message_template),\n",
    "    (\"human\", \"{user_input}\")])"
   ]
  },
  {
   "cell_type": "code",
   "execution_count": 28,
   "metadata": {},
   "outputs": [],
   "source": [
    "df = pd.read_csv(\"E:/JIO QTR 3/LLM/Lab1/Exercise 1/ford_car_reviews.csv\", encoding='utf-8', on_bad_lines='skip', engine='python')\n",
    "df = df.head(25)"
   ]
  },
  {
   "cell_type": "code",
   "execution_count": null,
   "metadata": {},
   "outputs": [],
   "source": []
  },
  {
   "cell_type": "code",
   "execution_count": 29,
   "metadata": {},
   "outputs": [],
   "source": [
    "from langchain_core.output_parsers import StrOutputParser, JsonOutputParser\n",
    "\n",
    "parser = JsonOutputParser()   "
   ]
  },
  {
   "cell_type": "code",
   "execution_count": 30,
   "metadata": {},
   "outputs": [],
   "source": [
    "proof_read_chain = template | llm | JsonOutputParser()"
   ]
  },
  {
   "cell_type": "code",
   "execution_count": 31,
   "metadata": {},
   "outputs": [
    {
     "name": "stdout",
     "output_type": "stream",
     "text": [
      "[{'Sentiment': 'Positive', 'Pros': [], 'Cons': [], 'Liked_Features': [], 'Disliked_Features': []}, {'Sentiment': 'Mixed', 'Pros': [\"smokin' hot looking car\", 'fun to drive', 'good power', 'great mileage'], 'Cons': ['orneriest transmission', 'difficult to master smooth gear changes', 'harsh ride', 'a lot of road noise'], 'Liked_Features': ['engine sound', 'smooth take-off'], 'Disliked_Features': ['transmission', 'gear changes', 'ride', 'road noise']}, {'Sentiment': 'Positive', 'Pros': ['Great investment', 'Reasonable price'], 'Cons': [], 'Liked_Features': ['Overall ride'], 'Disliked_Features': []}, {'Sentiment': 'Positive', 'Pros': ['The car is a Mustang', 'The car is fast', 'The car has a unique sound'], 'Cons': [], 'Liked_Features': ['V6 engine', 'Air aid cold air injector', 'Throttle body spacer', 'Flowmaster exhaust', 'Blacked out 17 inch factory rims'], 'Disliked_Features': []}, {'Sentiment': 'Positive', 'Pros': ['hugs the road', 'does whatever you ask at a moments notice', 'no mechanical breakdown'], 'Cons': ['alternator needed to be fixed', 'repairs like tires and brakes'], 'Liked_Features': ['handling', 'performance'], 'Disliked_Features': ['alternator issue', 'need for regular maintenance']}, {'Sentiment': 'Negative', 'Pros': [], 'Cons': ['sensors issues', 'cam phasers', 'solenoid problems'], 'Liked_Features': [], 'Disliked_Features': []}, {'Sentiment': 'Positive', 'Pros': ['Great bang for the buck performance', 'Decent fuel economy', 'Easy to work on for DIY enthusiasts', 'Good comfort during long road trips'], 'Cons': [], 'Liked_Features': ['SCT tuner', 'Ford CAI', 'Flow master mufflers'], 'Disliked_Features': []}, {'Sentiment': 'Positive', 'Pros': ['extreme fun', 'upgrades from previous owner', '3 year 36K bumper to bumper warranty'], 'Cons': [], 'Liked_Features': ['Airaid air filter system', 'Flowmaster exhaust', 'Screaming Yellow color'], 'Disliked_Features': []}, {'Sentiment': 'Negative', 'Pros': [], 'Cons': ['knocking noise', 'significant loss of power', 'cam phaser issue', 'needed a new motor'], 'Liked_Features': [], 'Disliked_Features': ['cam phaser issue']}, {'Sentiment': 'Positive', 'Pros': ['4.6L V8 engine', 'Stock exhaust has a nice rumble', 'Fast', 'Better looking', 'More of a car than used BMW/Mercedes', 'Good value for the price'], 'Cons': [], 'Liked_Features': ['The 4.6L V8 engine', 'Stock exhaust'], 'Disliked_Features': []}, {'Sentiment': 'Positive', 'Pros': ['put the fun back into driving', 'get up and goes', 'handles', 'turns heads'], 'Cons': [], 'Liked_Features': ['way it handles', 'V6 engine'], 'Disliked_Features': []}, {'Sentiment': 'Positive', 'Pros': ['So much fun to drive', 'Decent gas mileage'], 'Cons': [], 'Liked_Features': [\"The look of the '06 model\", 'The way the original owner took care of the car'], 'Disliked_Features': ['The look of the 09-11 models']}, {'Sentiment': 'Positive', 'Pros': ['still going strong', 'everything has always worked perfectly', 'changed oil regularly', 'changed brakes when necessary'], 'Cons': [], 'Liked_Features': ['Mobil 1 oil', 'regular maintenance'], 'Disliked_Features': []}, {'Sentiment': 'Positive', 'Pros': ['more stealthy', 'greater visibility', 'technologically refined', 'General Ulimax HP tires are the best'], 'Cons': [\"trip meter occasionally zero's itself\", 'rattles', 'needed a new battery due to Florida heat'], 'Liked_Features': ['General Ulimax HP tires'], 'Disliked_Features': [\"trip meter occasionally zero's itself\", 'rattles']}, {'Sentiment': 'Negative', 'Pros': ['drives great', 'replaced bat after 3 yrs which is norm', 'replaced fuel filter which is recommended'], 'Cons': ['dash board rattles', \"dealer couldn't fix it\", 'filed lemon law got $2000 from Ford', 'brake pads & rotors went at 12,000 miles', 'rear brake bulbs have been replaced about 4 times'], 'Liked_Features': ['drives great'], 'Disliked_Features': ['dash board rattles', 'brake pads & rotors went at 12,000 miles', 'rear brake bulbs have been replaced about 4 times']}, {'Sentiment': 'Positive', 'Pros': ['handles well on various roads', 'no real issues', 'kept up with scheduled maintenance'], 'Cons': ['transmission pan leak', 'squeak near gauge cluster'], 'Liked_Features': ['handling', 'performance'], 'Disliked_Features': ['transmission pan leak', 'squeak near gauge cluster']}, {'Sentiment': 'Negative', 'Pros': ['runs great'], 'Cons': ['starting to rattle a little much', \"two 'subs' in the door aren't subs\", 'may go to pieces not too far down the road'], 'Liked_Features': ['runs great'], 'Disliked_Features': ['rattling', 'subs mounted in door instead of a box']}, {'Sentiment': 'Negative', 'Pros': ['Nice styling', 'Fun to drive'], 'Cons': ['Unending mystery electrical problems', 'Dealership wants to nickel and dime on warranty work', 'Not practical to own in winter time'], 'Liked_Features': ['Styling', 'Driving experience'], 'Disliked_Features': ['Electrical problems', \"Dealership's warranty work practices\"]}, {'Sentiment': 'Negative', 'Pros': ['Down and dirty V6', 'Shaker 500'], 'Cons': ['Throttle body issues', 'Clutch slipping', 'Induction trouble'], 'Liked_Features': ['Shaker 500'], 'Disliked_Features': ['Throttle body', 'Clutch', 'Induction']}, {'Sentiment': 'Mixed', 'Pros': ['Great looking car', 'Lots of options'], 'Cons': ['Stiff ride', 'Lots of rattles', 'Needed alternator and battery replacement at 30k service'], 'Liked_Features': ['Pony Package'], 'Disliked_Features': ['Rattles']}, {'Sentiment': 'Negative', 'Pros': [], 'Cons': ['stalling', 'battery replacement', 'alternator issue', 'headlight problem', 'belt tearing', 'crank issue', 'engine rebuild'], 'Liked_Features': [], 'Disliked_Features': ['stalling', 'battery replacement', 'alternator issue', 'headlight problem', 'belt tearing', 'crank issue', 'engine rebuild']}, {'Sentiment': 'Positive', 'Pros': ['drives like a dream', 'everything I ever imagined', 'get a lot of compliments', 'no problems so far'], 'Cons': [], 'Liked_Features': ['the way it drives', 'the design'], 'Disliked_Features': []}, {'Sentiment': 'Negative', 'Pros': ['I love to drive the car', 'I love to look at the car'], 'Cons': ['battery draining', 'driver side window issue'], 'Liked_Features': ['design', 'driving experience'], 'Disliked_Features': ['battery', 'driver side window system']}, {'Sentiment': 'Positive', 'Pros': ['Great on gas', 'Looks great', 'Has not let me down'], 'Cons': ['Noisy', 'Rides rough', 'Uncomfortable on long trips'], 'Liked_Features': ['Great gas mileage', 'Appearance'], 'Disliked_Features': ['Noise level', 'Ride quality', 'Comfort on long trips']}, {'Sentiment': 'Positive', 'Pros': ['Fast', 'Sounds great', 'Built extremely well', 'Turns heads with its loud rumble'], 'Cons': [], 'Liked_Features': ['V8 engine', 'Cold air intake', 'Pypes Violator exhaust'], 'Disliked_Features': []}]\n"
     ]
    }
   ],
   "source": [
    "results = []\n",
    "for _, row in df.iterrows():\n",
    "    chain_output = proof_read_chain.invoke(dict(\n",
    "        user_input=\"Analyze the sentiment of each review, categorize it as positive, neutral, or negative, and show the result in JSON format.\",\n",
    "        author=row['Author_Name'],\n",
    "        review_date=row['Review_Date'],\n",
    "        review_title=row['Review_Title'],\n",
    "        review_text=row['Review'],\n",
    "        sentiment=\"\" \n",
    "    ))\n",
    "    results.append(chain_output)\n",
    "\n",
    "print(results)"
   ]
  },
  {
   "cell_type": "code",
   "execution_count": null,
   "metadata": {},
   "outputs": [],
   "source": []
  }
 ],
 "metadata": {
  "kernelspec": {
   "display_name": "base",
   "language": "python",
   "name": "python3"
  },
  "language_info": {
   "codemirror_mode": {
    "name": "ipython",
    "version": 3
   },
   "file_extension": ".py",
   "mimetype": "text/x-python",
   "name": "python",
   "nbconvert_exporter": "python",
   "pygments_lexer": "ipython3",
   "version": "3.11.7"
  }
 },
 "nbformat": 4,
 "nbformat_minor": 2
}
